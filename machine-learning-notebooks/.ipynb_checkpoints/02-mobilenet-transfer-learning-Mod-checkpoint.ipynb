{
 "cells": [
  {
   "cell_type": "markdown",
   "metadata": {},
   "source": [
    "Copyright (c) Microsoft Corporation. All rights reserved.\n",
    "\n",
    "Licensed under the MIT License."
   ]
  },
  {
   "cell_type": "markdown",
   "metadata": {},
   "source": [
    "# Transfer learning sample\n",
    "* Train model\n",
    "* Build Image \n",
    "* Create IoT Edge deployment JSON\n",
    "* Deploy Model"
   ]
  },
  {
   "cell_type": "markdown",
   "metadata": {},
   "source": [
    "![title](aml_config/AMLimages/VAIDKe2e.png)"
   ]
  },
  {
   "cell_type": "code",
   "execution_count": 1,
   "metadata": {
    "scrolled": true
   },
   "outputs": [
    {
     "name": "stderr",
     "output_type": "stream",
     "text": [
      "'source' is not recognized as an internal or external command,\n",
      "operable program or batch file.\n",
      "'source' is not recognized as an internal or external command,\n",
      "operable program or batch file.\n"
     ]
    }
   ],
   "source": [
    "# For prod\n",
    "!source activate py36 && pip install azureml-core azureml-contrib-iot azure-mgmt-containerregistry azure-cli\n",
    "!source activate py36 && az extension add --name azure-cli-iot-ext"
   ]
  },
  {
   "cell_type": "code",
   "execution_count": null,
   "metadata": {},
   "outputs": [],
   "source": [
    "import os\n",
    "print(os.__file__)"
   ]
  },
  {
   "cell_type": "code",
   "execution_count": null,
   "metadata": {},
   "outputs": [],
   "source": [
    "# Check core SDK version number\n",
    "import azureml.core as azcore\n",
    "\n",
    "print(\"SDK version:\", azcore.VERSION)"
   ]
  },
  {
   "cell_type": "markdown",
   "metadata": {},
   "source": [
    "### Create a Workspace\n",
    "#### Change this cell from markdown to code and run this if you need to create a workspace \n",
    "#### Update the values for your workspace below\n",
    "ws=Workspace.create(subscription_id=\"replace-with-subscription-id\",\n",
    "                resource_group=\"your-resource-group\",\n",
    "                name=\"your-workspace-name\",\n",
    "                location=\"eastus2\")\n",
    "                \n",
    "ws.write_config()"
   ]
  },
  {
   "cell_type": "code",
   "execution_count": null,
   "metadata": {},
   "outputs": [],
   "source": [
    "#Initialize Workspace \n",
    "from azureml.core import Workspace\n",
    "\n",
    "ws = Workspace.from_config()\n",
    "print(ws.name, ws.resource_group, ws.location, ws.subscription_id, sep = '\\n')"
   ]
  },
  {
   "cell_type": "markdown",
   "metadata": {},
   "source": [
    "### Create Experiment\n",
    "Experiment is a logical container in an Azure ML Workspace. It hosts run records which can include run metrics and output artifacts from your experiments."
   ]
  },
  {
   "cell_type": "code",
   "execution_count": null,
   "metadata": {},
   "outputs": [],
   "source": [
    "experiment_name = 'soda_cans'\n",
    "\n",
    "from azureml.core import Experiment\n",
    "exp = Experiment(workspace = ws, name = experiment_name)"
   ]
  },
  {
   "cell_type": "markdown",
   "metadata": {},
   "source": [
    "## Get data\n",
    "### Option 1: Upload data files into datastore\n",
    "Every workspace comes with a default datastore (and you can register more) which is backed by the Azure blob storage account associated with the workspace. We can use it to transfer data from local to the cloud, and access it from the compute target."
   ]
  },
  {
   "cell_type": "code",
   "execution_count": null,
   "metadata": {},
   "outputs": [],
   "source": [
    "# get the default datastore\n",
    "ds = ws.get_default_datastore()\n",
    "print(ds.name, ds.datastore_type, ds.account_name, ds.container_name)"
   ]
  },
  {
   "cell_type": "code",
   "execution_count": null,
   "metadata": {},
   "outputs": [],
   "source": [
    "data_path = experiment_name + '_training_data'\n",
    "ds.upload(src_dir='data/soda_cans', target_path=data_path, overwrite=True)"
   ]
  },
  {
   "cell_type": "markdown",
   "metadata": {},
   "source": [
    "### Option 2: Use existing datastore in Azure blob storage"
   ]
  },
  {
   "cell_type": "code",
   "execution_count": null,
   "metadata": {},
   "outputs": [],
   "source": [
    "from azureml.core.datastore import Datastore\n",
    "ds = Datastore.register_azure_blob_container(workspace=ws, \n",
    "                                         datastore_name='xxx', \n",
    "                                         container_name='xxx',\n",
    "                                         account_name='xxxx', \n",
    "                                         account_key='xxx',\n",
    "                                         create_if_not_exists=False)\n",
    "data_path = \"soda_cans_training_data\" # This is the path to the folder in the blob container. Set this to None to get all the contents.\n",
    "print(ds.name, ds.datastore_type, ds.account_name, ds.container_name)"
   ]
  },
  {
   "cell_type": "markdown",
   "metadata": {},
   "source": [
    "### Configure for using ACI\n",
    "Linux-based ACI is available in West US, East US, West Europe, North Europe, West US 2, Southeast Asia, Australia East, East US 2, and Central US regions.  See details [here](https://docs.microsoft.com/en-us/azure/container-instances/container-instances-quotas#region-availability)"
   ]
  },
  {
   "cell_type": "code",
   "execution_count": null,
   "metadata": {},
   "outputs": [],
   "source": [
    "from azureml.core.runconfig import DataReferenceConfiguration\n",
    "dr = DataReferenceConfiguration(datastore_name=ds.name, \n",
    "                   path_on_datastore=data_path, \n",
    "                   mode='download', # download files from datastore to compute target\n",
    "                   overwrite=True)"
   ]
  },
  {
   "cell_type": "markdown",
   "metadata": {},
   "source": [
    "Set the system to build a conda environment based on the run configuration. Once the environment is built, and if you don't change your dependencies, it will be reused in subsequent runs."
   ]
  },
  {
   "cell_type": "code",
   "execution_count": null,
   "metadata": {},
   "outputs": [],
   "source": [
    "from azureml.core.compute import ComputeTarget, AmlCompute\n",
    "from azureml.core.compute_target import ComputeTargetException\n",
    "\n",
    "# choose a name for your cluster\n",
    "cluster_name = \"cpucluster1\"\n",
    "\n",
    "try:\n",
    "    compute_target = ComputeTarget(workspace=ws, name=cluster_name)\n",
    "    print('Found existing compute target.')\n",
    "except ComputeTargetException:\n",
    "    print('Creating a new compute target...')\n",
    "    compute_config = AmlCompute.provisioning_configuration(vm_size='Standard_D3', max_nodes=2)\n",
    "\n",
    "    # create the cluster\n",
    "    compute_target = ComputeTarget.create(ws, cluster_name, compute_config)\n",
    "\n",
    "    compute_target.wait_for_completion(show_output=True)\n",
    "\n",
    "# Use the 'status' property to get a detailed status for the current AmlCompute. \n",
    "print(compute_target.status.serialize())"
   ]
  },
  {
   "cell_type": "code",
   "execution_count": null,
   "metadata": {},
   "outputs": [],
   "source": [
    "from azureml.core.runconfig import RunConfiguration, DEFAULT_CPU_IMAGE\n",
    "from azureml.core.conda_dependencies import CondaDependencies\n",
    "\n",
    "# create a new runconfig object\n",
    "run_config = RunConfiguration(framework = \"python\")\n",
    "\n",
    "# Set compute target\n",
    "run_config.target = compute_target.name\n",
    "\n",
    "# set the data reference of the run configuration\n",
    "run_config.data_references = {ds.name: dr}\n",
    "\n",
    "# enable Docker \n",
    "run_config.environment.docker.enabled = True\n",
    "\n",
    "# set Docker base image to the default CPU-based image\n",
    "run_config.environment.docker.base_image = DEFAULT_CPU_IMAGE\n",
    "\n",
    "# use conda_dependencies.yml to create a conda environment in the Docker image for execution\n",
    "run_config.environment.python.user_managed_dependencies = False\n",
    "\n",
    "# auto-prepare the Docker image when used for execution (if it is not already prepared)\n",
    "run_config.auto_prepare_environment = True\n",
    "\n",
    "# specify CondaDependencies obj\n",
    "run_config.environment.python.conda_dependencies = CondaDependencies.create(conda_packages=['tensorflow==1.8.0'])"
   ]
  },
  {
   "cell_type": "markdown",
   "metadata": {},
   "source": [
    "### Submit the Experiment\n",
    "Submit script to run in the Docker image in the remote VM. If you run this for the first time, the system will download the base image, layer in packages specified in the conda_dependencies.yml file on top of the base image, create a container and then execute the script in the container."
   ]
  },
  {
   "cell_type": "code",
   "execution_count": null,
   "metadata": {
    "scrolled": true
   },
   "outputs": [],
   "source": [
    "from azureml.core import Run\n",
    "from azureml.core import ScriptRunConfig\n",
    "\n",
    "src = ScriptRunConfig(source_directory = './02-mobilenet-transfer-learning-scripts', script = 'retrain.py', run_config = run_config, \n",
    "                      # pass the datastore reference as a parameter to the training script\n",
    "                      arguments=['--image_dir', str(ds.as_download()),\n",
    "                                 '--architecture', 'mobilenet_1.0_224',\n",
    "                                 '--output_graph', 'outputs/retrained_graph.pb',\n",
    "                                 '--output_labels', 'outputs/output_labels.txt',\n",
    "                                 '--model_download_url', 'https://raw.githubusercontent.com/rakelkar/models/master/model_output/',\n",
    "                                 '--model_file_name', 'imagenet_2_frozen.pb'\n",
    "                                ])\n",
    "run = exp.submit(config=src)"
   ]
  },
  {
   "cell_type": "code",
   "execution_count": null,
   "metadata": {},
   "outputs": [],
   "source": [
    "run"
   ]
  },
  {
   "cell_type": "code",
   "execution_count": null,
   "metadata": {},
   "outputs": [],
   "source": [
    "run.wait_for_completion(show_output=True)"
   ]
  },
  {
   "cell_type": "markdown",
   "metadata": {},
   "source": [
    "## Get the trained model"
   ]
  },
  {
   "cell_type": "code",
   "execution_count": null,
   "metadata": {},
   "outputs": [],
   "source": [
    "trained_model_path = \"models/mobilenet-orig\""
   ]
  },
  {
   "cell_type": "code",
   "execution_count": null,
   "metadata": {},
   "outputs": [],
   "source": [
    "# Download the retrained model and the labels locally\n",
    "run.download_file(name = 'outputs/retrained_graph.pb', output_file_path = trained_model_path)\n",
    "run.download_file(name = 'outputs/output_labels.txt', output_file_path = trained_model_path)"
   ]
  },
  {
   "cell_type": "markdown",
   "metadata": {},
   "source": [
    "### VAM config file\n",
    "This step uses the trained model from your local folder in the Notebooks shell.\n",
    "There are three files (i) the __model_name.pb__ file, (ii) the __lables_names.txt__ and (iii) __va-snpe-engine-library_config.json__, in this folder. \n",
    "\n",
    "This va-snpe-engine-library_config file is used by the camera when loading the model into the inference engine.\n",
    "\n",
    "__key fields are:__\n",
    "1. Engine: This is the network used by the model\n",
    "   * 0: MobileNet\n",
    "   * 1: MobileNet-SSD \n",
    "   * 2: SqueezeNet\n",
    "2. NetworkIO: \n",
    "   * 0: CPU (default)\n",
    "   * 1: DSP\n",
    "3. Runtime: this is the HW option to use for inferencing\n",
    "   * 0: CPU \n",
    "   * 1: DSP \n",
    "   * 2: GPU\n",
    "ConfThreshold: This is the threshold for when the bounding boxes are shown or inferencing results are shown on screen."
   ]
  },
  {
   "cell_type": "code",
   "execution_count": null,
   "metadata": {},
   "outputs": [],
   "source": [
    "vam_config_file = trained_model_path + \"/va-snpe-engine-library_config.json\""
   ]
  },
  {
   "cell_type": "code",
   "execution_count": null,
   "metadata": {},
   "outputs": [],
   "source": [
    "%%writefile $vam_config_file\n",
    "{\n",
    "\"Engine\":0,\n",
    "\"NetworkIO\":1,\n",
    "\"ScaleWidth\":224,\n",
    "\"ScaleHeight\":224,\n",
    "\"PixelNorm\":127.5,\n",
    "\"BlueMean\":104,\n",
    "\"GreenMean\":117,\n",
    "\"RedMean\":123,\n",
    "\"TargetFPS\":30,\n",
    "\"ConfThreshold\":0.0,\n",
    "\"DLC_NAME\":\"model.dlc\",\n",
    "\"LABELS_NAME\":\"output_labels.txt\",\n",
    "\"InputLayers\":\"input:0\",\n",
    "\"OutputLayers\":[\"final_result\"],\n",
    "\"ResultLayers\":[\"final_result:0\"],\n",
    "\"Runtime\":1\n",
    "}"
   ]
  },
  {
   "cell_type": "code",
   "execution_count": null,
   "metadata": {},
   "outputs": [],
   "source": [
    "from azureml.core.model import Model\n",
    "\n",
    "model = Model.register(model_path = trained_model_path,\n",
    "                      model_name = \"soda_cans\",\n",
    "                      tags = {\"data\": \"Imagenet\", \"model\": \"object_detection\", \"type\": \"imagenet\"},\n",
    "                      description = \"Retrained soda cans based on MobileNet\",\n",
    "                      workspace = ws)"
   ]
  },
  {
   "cell_type": "code",
   "execution_count": null,
   "metadata": {},
   "outputs": [],
   "source": [
    "from azureml.contrib.iot.model_converters import SnpeConverter\n",
    "\n",
    "# submit a compile request\n",
    "compile_request = SnpeConverter.convert_tf_model(\n",
    "    ws,\n",
    "    source_model=model,\n",
    "    input_node=\"input\",\n",
    "    input_dims=\"1,224,224,3\",\n",
    "    outputs_nodes = [\"final_result\"],\n",
    "    allow_unconsumed_nodes = True)\n",
    "print(compile_request._operation_id)"
   ]
  },
  {
   "cell_type": "code",
   "execution_count": null,
   "metadata": {
    "scrolled": true
   },
   "outputs": [],
   "source": [
    "# wait for the request to complete\n",
    "compile_request.wait_for_completion(show_output=True)"
   ]
  },
  {
   "cell_type": "code",
   "execution_count": null,
   "metadata": {},
   "outputs": [],
   "source": [
    "# Get converted model\n",
    "converted_model = compile_request.result\n",
    "print(converted_model.name, converted_model.url, converted_model.version, converted_model.id, converted_model.created_time)"
   ]
  },
  {
   "cell_type": "code",
   "execution_count": null,
   "metadata": {},
   "outputs": [],
   "source": [
    "from azureml.core.image import Image\n",
    "from azureml.contrib.iot import IotContainerImage\n",
    "print ('We will create an image for you now ...')\n",
    "image_config = IotContainerImage.image_configuration(\n",
    "                                 architecture=\"arm32v7\",\n",
    "                                 execution_script=\"main.py\", \n",
    "                                 dependencies=[\"camera.py\",\"iot.py\",\"ipcprovider.py\",\"utility.py\", \"frame_iterators.py\"],\n",
    "                                 docker_file=\"Dockerfile\", \n",
    "                                 tags = [\"mobilenet\"],\n",
    "                                 description = \"MobileNet model retrained soda cans\")\n",
    "image = Image.create(name = \"mobilenetsoda\",\n",
    "                     # this is the model object \n",
    "                     models = [converted_model],\n",
    "                     image_config = image_config, \n",
    "                     workspace = ws)\n",
    "image.wait_for_creation(show_output = True)"
   ]
  },
  {
   "cell_type": "markdown",
   "metadata": {},
   "source": [
    "#### Setup the details for the IoT Hub. \n",
    "You can use the configuration from an existing IoT Hub if you have one setup."
   ]
  },
  {
   "cell_type": "code",
   "execution_count": null,
   "metadata": {},
   "outputs": [],
   "source": [
    "# Parameter list\n",
    "\n",
    "# Pick a name for what you want to call the module you deploy to the camera\n",
    "module_name = \"visionsample\"\n",
    "\n",
    "# Resource group in Azure \n",
    "resource_group_name= ws.resource_group\n",
    "iot_rg=\"vaidk_\"+resource_group_name # or use the existing RG\n",
    "\n",
    "# Azure region where your services will be provisioned\n",
    "iot_location=\"eastus2\" # or use the existing location\n",
    "\n",
    "# Azure IoT Hub name\n",
    "iot_hub_name=\"iothub-\"+ ws.get_details()[\"name\"] # or use the name of an existing IoT Hub\n",
    "\n",
    "# Pick a name for your camera\n",
    "iot_device_id=\"vadik_\"+ ws.get_details()[\"name\"] # or use the existing device ID from IoT Hub configuration\n",
    "\n",
    "# Pick a name for the deployment configuration\n",
    "iot_deployment_id=\"demovaidk\" # "
   ]
  },
  {
   "cell_type": "code",
   "execution_count": null,
   "metadata": {},
   "outputs": [],
   "source": [
    "# Getting your container details\n",
    "container_reg = ws.get_details()[\"containerRegistry\"]\n",
    "reg_name=container_reg.split(\"/\")[-1]\n",
    "container_url = \"\\\"\" + image.image_location + \"\\\",\"\n",
    "subscription_id = ws.subscription_id\n",
    "print('{}'.format(image.image_location))\n",
    "print('{}'.format(reg_name))\n",
    "print('{}'.format(subscription_id))\n",
    "from azure.mgmt.containerregistry import ContainerRegistryManagementClient\n",
    "from azure.mgmt import containerregistry\n",
    "client = ContainerRegistryManagementClient(ws._auth,subscription_id)\n",
    "result= client.registries.list_credentials(resource_group_name, reg_name, custom_headers=None, raw=False)\n",
    "username = result.username\n",
    "password = result.passwords[0].value"
   ]
  },
  {
   "cell_type": "markdown",
   "metadata": {},
   "source": [
    "### Deployment file\n",
    "This is the deployment.json file that you will use to deploy your model.  Please see the other sample notebooks on using this file to deploy the new model you created."
   ]
  },
  {
   "cell_type": "code",
   "execution_count": null,
   "metadata": {},
   "outputs": [],
   "source": [
    "file = open('./deployment-template.json')\n",
    "contents = file.read()\n",
    "contents = contents.replace('__MODULE_NAME', module_name)\n",
    "contents = contents.replace('__REGISTRY_NAME', reg_name)\n",
    "contents = contents.replace('__REGISTRY_USER_NAME', username)\n",
    "contents = contents.replace('__REGISTRY_PASSWORD', password)\n",
    "contents = contents.replace('__REGISTRY_IMAGE_LOCATION', image.image_location)\n",
    "with open('./deployment.json', 'wt', encoding='utf-8') as output_file:\n",
    "    output_file.write(contents)"
   ]
  },
  {
   "cell_type": "markdown",
   "metadata": {},
   "source": [
    "### Option 1: Push this updated deployment manifest to an existing IoT Hub"
   ]
  },
  {
   "cell_type": "code",
   "execution_count": null,
   "metadata": {},
   "outputs": [],
   "source": [
    "!az login \n",
    "!az account set --subscription subscription_id"
   ]
  },
  {
   "cell_type": "code",
   "execution_count": null,
   "metadata": {},
   "outputs": [],
   "source": [
    "print(\"Pushing deployment to IoT Edge device\")"
   ]
  },
  {
   "cell_type": "code",
   "execution_count": null,
   "metadata": {},
   "outputs": [],
   "source": [
    "print (\"Set the deployment\") \n",
    "!az iot edge set-modules --device-id $iot_device_id --hub-name $iot_hub_name --content deployment.json"
   ]
  },
  {
   "cell_type": "markdown",
   "metadata": {},
   "source": [
    "### Option 2: Create a new Azure IoT Hub\n",
    "__SKIP__ if you have already pushed to an existing IoT Hub"
   ]
  },
  {
   "cell_type": "code",
   "execution_count": null,
   "metadata": {},
   "outputs": [],
   "source": [
    "print ( 'We will create your HUB now')\n",
    "\n",
    "with open ('setsub','w+') as command1:\n",
    "    command1.write('az account set --subscription'+subscription_id )\n",
    "    !sh setsub\n",
    "\n",
    "with open ('create','w+') as command2:\n",
    "    regcommand=\"\\n echo Installing Extension ... \\naz extension add --name azure-cli-iot-ext \\n\"+ \"\\n echo CREATING RG \"+iot_rg+\"... \\naz group create --name \"+ iot_rg +\" --location \"+ iot_location+ \"\\n\" +\"\\n echo CREATING HUB \"+iot_hub_name+\"... \\naz iot hub create --name \"+ iot_hub_name + \" --resource-group \"+ iot_rg +\" --sku S1\"\n",
    "    command2.write(regcommand +\"\\n echo CREATING DEVICE ID \"+iot_device_id+\"... \\n az iot hub device-identity create --device-id \"+ iot_device_id + \" --hub-name \" +  iot_hub_name +\" --edge-enabled\")\n",
    "    !sh create\n",
    "\n",
    "with open ('deploy','w+')as command3:\n",
    "    createcommand=\"\\n echo DEPLOYING \"+iot_deployment_id+\" ... \\naz iot edge deployment create --deployment-id \\\"\" + iot_deployment_id + \"\\\" --content \\\"deployment.json\\\" --hub-name \\\"\" +  iot_hub_name +\"\\\" --target-condition \\\"deviceId='\"+iot_device_id+\"'\\\" --priority 1\"\n",
    "    command3.write(createcommand)\n",
    "    !sh deploy\n",
    "\n",
    "with open ('details','w+')as command4:\n",
    "    get_string=\"\\n echo THIS IS YOUR CONNECTION STRING ... \\naz iot hub device-identity show-connection-string --device-id  \\\"\" + iot_device_id + \"\\\" --hub-name \\\"\" +  iot_hub_name+\"\\\"\"\n",
    "    command4.write(get_string)\n",
    "    print(\"COPY THIS CONNECTION STRING FOR YOUR DEVICE\")\n",
    "    !sh details\n"
   ]
  },
  {
   "cell_type": "code",
   "execution_count": null,
   "metadata": {},
   "outputs": [],
   "source": [
    "%%writefile ./setsub\n",
    "az account set --subscription "
   ]
  },
  {
   "cell_type": "code",
   "execution_count": null,
   "metadata": {},
   "outputs": [],
   "source": [
    "iot_sub=subscription_id\n",
    "%store iot_sub >> setsub\n",
    "!sh setsub \n",
    "print ('{}'.format(iot_sub))"
   ]
  },
  {
   "cell_type": "code",
   "execution_count": null,
   "metadata": {},
   "outputs": [],
   "source": [
    "#RG and location to create hub\n",
    "# iot_rg=\"vaidk_\"+resource_group_name\n",
    "# iot_location=ws.get_details()[\"location\"]\n",
    "#temp to delete\n",
    "# iot_location=\"eastus2\"\n",
    "# iot_hub_name=\"iothub-\"+ ws.get_details()[\"name\"]\n",
    "# iot_device_id=\"vadik_\"+ ws.get_details()[\"name\"]\n",
    "# iot_deployment_id=\"demovaidk\"\n",
    "print('{}'.format(iot_hub_name))"
   ]
  },
  {
   "cell_type": "code",
   "execution_count": null,
   "metadata": {},
   "outputs": [],
   "source": [
    "%%writefile ./create\n",
    "#Command to create hub and device"
   ]
  },
  {
   "cell_type": "code",
   "execution_count": null,
   "metadata": {},
   "outputs": [],
   "source": [
    "# Adding Intialization steps\n",
    "regcommand=\"\\n echo Installing Extension ... \\naz extension add --name azure-cli-iot-ext \\n\"+ \"\\n echo CREATING RG \"+iot_rg+\"... \\naz group create --name \"+ iot_rg +\" --location \"+ iot_location+ \"\\n\" +\"\\n echo CREATING HUB \"+iot_hub_name+\"... \\naz iot hub create --name \"+ iot_hub_name + \" --resource-group \"+ iot_rg +\" --sku S1\"\n",
    "#print('{}'.format(regcommand))\n",
    "%store regcommand >> create"
   ]
  },
  {
   "cell_type": "markdown",
   "metadata": {},
   "source": [
    "#### Create identity for your device"
   ]
  },
  {
   "cell_type": "code",
   "execution_count": null,
   "metadata": {},
   "outputs": [],
   "source": [
    "#Adding Device ID \n",
    "create_device=\"\\n echo CREATING DEVICE ID \"+iot_device_id+\"... \\n az iot hub device-identity create --device-id \"+ iot_device_id + \" --hub-name \" +  iot_hub_name +\" --edge-enabled\"\n",
    "#print('{}'.format(create_device))\n",
    "%store create_device >> create"
   ]
  },
  {
   "cell_type": "code",
   "execution_count": null,
   "metadata": {},
   "outputs": [],
   "source": [
    "#Create command and vonfigure device \n",
    "!sh create"
   ]
  },
  {
   "cell_type": "markdown",
   "metadata": {},
   "source": [
    "#### Create Deployment"
   ]
  },
  {
   "cell_type": "code",
   "execution_count": null,
   "metadata": {},
   "outputs": [],
   "source": [
    "%%writefile ./deploy\n",
    "#Command to create hub and device"
   ]
  },
  {
   "cell_type": "code",
   "execution_count": null,
   "metadata": {},
   "outputs": [],
   "source": [
    "#Add deployment command\n",
    "deploy_device=\"\\n echo DEPLOYING \"+iot_deployment_id+\" ... \\naz iot edge deployment create --deployment-id \\\"\" + iot_deployment_id + \"\\\" --content \\\"deployment.json\\\" --hub-name \\\"\" +  iot_hub_name +\"\\\" --target-condition \\\"deviceId='\"+iot_device_id+\"'\\\" --priority 1\"\n",
    "#print('{}'.format(deploy_device))\n",
    "%store deploy_device >> deploy"
   ]
  },
  {
   "cell_type": "code",
   "execution_count": null,
   "metadata": {},
   "outputs": [],
   "source": [
    "#run deployment to stage all work for when the model is ready \n",
    "!sh deploy"
   ]
  },
  {
   "cell_type": "markdown",
   "metadata": {},
   "source": [
    "#### Use this conenction string on your camera to Initialize it"
   ]
  },
  {
   "cell_type": "code",
   "execution_count": null,
   "metadata": {},
   "outputs": [],
   "source": [
    "%%writefile ./showdetails\n",
    "#Command to create hub and device"
   ]
  },
  {
   "cell_type": "code",
   "execution_count": null,
   "metadata": {},
   "outputs": [],
   "source": [
    "#Add deployment command\n",
    "get_string=\"\\n echo THIS IS YOUR CONNECTION STRING ... \\naz iot hub device-identity show-connection-string --device-id  \\\"\" + iot_device_id + \"\\\" --hub-name \\\"\" +  iot_hub_name+\"\\\"\"\n",
    "#print('{}'.format(get_string))\n",
    "%store get_string >> showdetails\n",
    "!sh showdetails"
   ]
  },
  {
   "cell_type": "code",
   "execution_count": null,
   "metadata": {},
   "outputs": [],
   "source": [
    "!az account set --subscription 5f08d643-1910-4a38-a7c7-84a39d4f42e0\n",
    "!az iot hub show --name hub-peabody"
   ]
  }
 ],
 "metadata": {
  "kernelspec": {
   "display_name": "Python 3",
   "language": "python",
   "name": "python3"
  },
  "language_info": {
   "codemirror_mode": {
    "name": "ipython",
    "version": 3
   },
   "file_extension": ".py",
   "mimetype": "text/x-python",
   "name": "python",
   "nbconvert_exporter": "python",
   "pygments_lexer": "ipython3",
   "version": "3.7.0"
  }
 },
 "nbformat": 4,
 "nbformat_minor": 2
}

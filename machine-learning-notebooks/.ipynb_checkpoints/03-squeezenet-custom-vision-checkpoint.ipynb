{
 "cells": [
  {
   "cell_type": "markdown",
   "metadata": {},
   "source": [
    "Copyright (c) Microsoft Corporation. All rights reserved.\n",
    "\n",
    "Licensed under the MIT License."
   ]
  },
  {
   "cell_type": "markdown",
   "metadata": {},
   "source": [
    "# Custom Vision Service Model\n",
    "* Create Workspace\n",
    "* Register Demo model\n",
    "* Build Image \n",
    "* Create Hub and Prepare for device and deploy\n",
    "* Deploy Model"
   ]
  },
  {
   "cell_type": "code",
   "execution_count": 2,
   "metadata": {
    "scrolled": true
   },
   "outputs": [
    {
     "name": "stdout",
     "output_type": "stream",
     "text": [
      "Requirement already satisfied: azureml-core in c:\\programdata\\miniconda3\\envs\\iotedge\\lib\\site-packages (1.0.10)\n",
      "Requirement already satisfied: pyopenssl>=17.1.0 in c:\\programdata\\miniconda3\\envs\\iotedge\\lib\\site-packages (from azureml-core) (18.0.0)\n",
      "Requirement already satisfied: ruamel.yaml<=0.15.51,>=0.15.35 in c:\\programdata\\miniconda3\\envs\\iotedge\\lib\\site-packages (from azureml-core) (0.15.51)\n",
      "Requirement already satisfied: six>=1.11.0 in c:\\programdata\\miniconda3\\envs\\iotedge\\lib\\site-packages (from azureml-core) (1.12.0)\n",
      "Requirement already satisfied: ndg-httpsclient in c:\\programdata\\miniconda3\\envs\\iotedge\\lib\\site-packages (from azureml-core) (0.5.1)\n",
      "Requirement already satisfied: jsonpickle in c:\\programdata\\miniconda3\\envs\\iotedge\\lib\\site-packages (from azureml-core) (1.0)\n",
      "Requirement already satisfied: azure-mgmt-keyvault>=0.40.0 in c:\\programdata\\miniconda3\\envs\\iotedge\\lib\\site-packages (from azureml-core) (1.1.0)\n",
      "Requirement already satisfied: python-dateutil>=2.7.3 in c:\\programdata\\miniconda3\\envs\\iotedge\\lib\\site-packages (from azureml-core) (2.7.5)\n",
      "Requirement already satisfied: msrestazure>=0.4.33 in c:\\programdata\\miniconda3\\envs\\iotedge\\lib\\site-packages (from azureml-core) (0.6.0)\n",
      "Requirement already satisfied: adal>=1.2.0 in c:\\programdata\\miniconda3\\envs\\iotedge\\lib\\site-packages (from azureml-core) (1.2.0)\n",
      "Requirement already satisfied: PyJWT in c:\\programdata\\miniconda3\\envs\\iotedge\\lib\\site-packages (from azureml-core) (1.7.1)\n",
      "Requirement already satisfied: paramiko>=2.0.8 in c:\\programdata\\miniconda3\\envs\\iotedge\\lib\\site-packages (from azureml-core) (2.4.2)\n",
      "Requirement already satisfied: azure-storage-nspkg>=3.0.0 in c:\\programdata\\miniconda3\\envs\\iotedge\\lib\\site-packages (from azureml-core) (3.1.0)\n",
      "Requirement already satisfied: msrest>=0.5.1 in c:\\programdata\\miniconda3\\envs\\iotedge\\lib\\site-packages (from azureml-core) (0.6.4)\n",
      "Requirement already satisfied: azure-storage-common>=1.1.0 in c:\\programdata\\miniconda3\\envs\\iotedge\\lib\\site-packages (from azureml-core) (1.4.0)\n",
      "Requirement already satisfied: azure-storage-blob>=1.1.0 in c:\\programdata\\miniconda3\\envs\\iotedge\\lib\\site-packages (from azureml-core) (1.4.0)\n",
      "Requirement already satisfied: azure-mgmt-authorization>=0.40.0 in c:\\programdata\\miniconda3\\envs\\iotedge\\lib\\site-packages (from azureml-core) (0.51.1)\n",
      "Requirement already satisfied: pathspec in c:\\programdata\\miniconda3\\envs\\iotedge\\lib\\site-packages (from azureml-core) (0.5.9)\n",
      "Requirement already satisfied: backports.tempfile in c:\\programdata\\miniconda3\\envs\\iotedge\\lib\\site-packages (from azureml-core) (1.0)\n",
      "Requirement already satisfied: azure-mgmt-containerregistry>=2.0.0 in c:\\programdata\\miniconda3\\envs\\iotedge\\lib\\site-packages (from azureml-core) (2.6.0)\n",
      "Requirement already satisfied: azure-common>=1.1.12 in c:\\programdata\\miniconda3\\envs\\iotedge\\lib\\site-packages (from azureml-core) (1.1.16)\n",
      "Requirement already satisfied: pyyaml>=3.13 in c:\\programdata\\miniconda3\\envs\\iotedge\\lib\\site-packages (from azureml-core) (3.13)\n",
      "Requirement already satisfied: pytz in c:\\programdata\\miniconda3\\envs\\iotedge\\lib\\site-packages (from azureml-core) (2018.9)\n",
      "Requirement already satisfied: SecretStorage<3.0.0 in c:\\programdata\\miniconda3\\envs\\iotedge\\lib\\site-packages (from azureml-core) (2.3.1)\n",
      "Requirement already satisfied: contextlib2 in c:\\programdata\\miniconda3\\envs\\iotedge\\lib\\site-packages (from azureml-core) (0.5.5)\n",
      "Requirement already satisfied: azure-mgmt-storage>=1.5.0 in c:\\programdata\\miniconda3\\envs\\iotedge\\lib\\site-packages (from azureml-core) (3.1.1)\n",
      "Requirement already satisfied: docker in c:\\programdata\\miniconda3\\envs\\iotedge\\lib\\site-packages (from azureml-core) (3.6.0)\n",
      "Requirement already satisfied: jmespath in c:\\programdata\\miniconda3\\envs\\iotedge\\lib\\site-packages (from azureml-core) (0.9.3)\n",
      "Requirement already satisfied: urllib3<1.24,>=1.23 in c:\\programdata\\miniconda3\\envs\\iotedge\\lib\\site-packages (from azureml-core) (1.23)\n",
      "Requirement already satisfied: azure-graphrbac>=0.40.0 in c:\\programdata\\miniconda3\\envs\\iotedge\\lib\\site-packages (from azureml-core) (0.53.0)\n",
      "Requirement already satisfied: cryptography!=1.9,!=2.0.*,!=2.1.*,!=2.2.* in c:\\programdata\\miniconda3\\envs\\iotedge\\lib\\site-packages (from azureml-core) (2.4.2)\n",
      "Requirement already satisfied: colorama>=0.3.9 in c:\\programdata\\miniconda3\\envs\\iotedge\\lib\\site-packages (from azureml-core) (0.4.1)\n",
      "Requirement already satisfied: requests>=2.19.1 in c:\\programdata\\miniconda3\\envs\\iotedge\\lib\\site-packages (from azureml-core) (2.21.0)\n",
      "Requirement already satisfied: azure-mgmt-resource>=1.2.1 in c:\\programdata\\miniconda3\\envs\\iotedge\\lib\\site-packages (from azureml-core) (2.1.0)\n",
      "Requirement already satisfied: pyasn1>=0.1.1 in c:\\programdata\\miniconda3\\envs\\iotedge\\lib\\site-packages (from ndg-httpsclient->azureml-core) (0.4.5)\n",
      "Requirement already satisfied: azure-mgmt-nspkg>=2.0.0 in c:\\programdata\\miniconda3\\envs\\iotedge\\lib\\site-packages (from azure-mgmt-keyvault>=0.40.0->azureml-core) (3.0.2)\n",
      "Requirement already satisfied: pynacl>=1.0.1 in c:\\programdata\\miniconda3\\envs\\iotedge\\lib\\site-packages (from paramiko>=2.0.8->azureml-core) (1.3.0)\n",
      "Requirement already satisfied: bcrypt>=3.1.3 in c:\\programdata\\miniconda3\\envs\\iotedge\\lib\\site-packages (from paramiko>=2.0.8->azureml-core) (3.1.5)\n",
      "Requirement already satisfied: azure-nspkg>=2.0.0 in c:\\programdata\\miniconda3\\envs\\iotedge\\lib\\site-packages (from azure-storage-nspkg>=3.0.0->azureml-core) (3.0.2)\n",
      "Requirement already satisfied: isodate>=0.6.0 in c:\\programdata\\miniconda3\\envs\\iotedge\\lib\\site-packages (from msrest>=0.5.1->azureml-core) (0.6.0)\n",
      "Requirement already satisfied: requests-oauthlib>=0.5.0 in c:\\programdata\\miniconda3\\envs\\iotedge\\lib\\site-packages (from msrest>=0.5.1->azureml-core) (1.1.0)\n",
      "Requirement already satisfied: certifi>=2017.4.17 in c:\\programdata\\miniconda3\\envs\\iotedge\\lib\\site-packages (from msrest>=0.5.1->azureml-core) (2018.11.29)\n",
      "Requirement already satisfied: backports.weakref in c:\\programdata\\miniconda3\\envs\\iotedge\\lib\\site-packages (from backports.tempfile->azureml-core) (1.0.post1)\n",
      "Requirement already satisfied: pypiwin32==223; sys_platform == \"win32\" and python_version >= \"3.6\" in c:\\programdata\\miniconda3\\envs\\iotedge\\lib\\site-packages (from docker->azureml-core) (223)\n",
      "Requirement already satisfied: websocket-client>=0.32.0 in c:\\programdata\\miniconda3\\envs\\iotedge\\lib\\site-packages (from docker->azureml-core) (0.54.0)\n",
      "Requirement already satisfied: docker-pycreds>=0.3.0 in c:\\programdata\\miniconda3\\envs\\iotedge\\lib\\site-packages (from docker->azureml-core) (0.4.0)\n",
      "Requirement already satisfied: cffi!=1.11.3,>=1.7 in c:\\programdata\\miniconda3\\envs\\iotedge\\lib\\site-packages (from cryptography!=1.9,!=2.0.*,!=2.1.*,!=2.2.*->azureml-core) (1.11.5)\n",
      "Requirement already satisfied: asn1crypto>=0.21.0 in c:\\programdata\\miniconda3\\envs\\iotedge\\lib\\site-packages (from cryptography!=1.9,!=2.0.*,!=2.1.*,!=2.2.*->azureml-core) (0.24.0)\n",
      "Requirement already satisfied: idna>=2.1 in c:\\programdata\\miniconda3\\envs\\iotedge\\lib\\site-packages (from cryptography!=1.9,!=2.0.*,!=2.1.*,!=2.2.*->azureml-core) (2.8)\n",
      "Requirement already satisfied: chardet<3.1.0,>=3.0.2 in c:\\programdata\\miniconda3\\envs\\iotedge\\lib\\site-packages (from requests>=2.19.1->azureml-core) (3.0.4)\n",
      "Requirement already satisfied: oauthlib<3.0.0,>=2.1.0 in c:\\programdata\\miniconda3\\envs\\iotedge\\lib\\site-packages (from requests-oauthlib>=0.5.0->msrest>=0.5.1->azureml-core) (2.1.0)\n",
      "Requirement already satisfied: pywin32>=223 in c:\\programdata\\miniconda3\\envs\\iotedge\\lib\\site-packages (from pypiwin32==223; sys_platform == \"win32\" and python_version >= \"3.6\"->docker->azureml-core) (224)\n",
      "Requirement already satisfied: pycparser in c:\\programdata\\miniconda3\\envs\\iotedge\\lib\\site-packages (from cffi!=1.11.3,>=1.7->cryptography!=1.9,!=2.0.*,!=2.1.*,!=2.2.*->azureml-core) (2.19)\n",
      "Collecting azureml-contrib-iot\n",
      "  Using cached https://files.pythonhosted.org/packages/12/0b/7c2abac336dada5905b39835c98e0b02a30002b3c5941d68bbdb7762db9c/azureml_contrib_iot-1.0.17-py2.py3-none-any.whl\n",
      "Collecting azureml-core==1.0.17.* (from azureml-contrib-iot)\n",
      "  Using cached https://files.pythonhosted.org/packages/54/8e/4e57078e34ce48d089c5e427327ebdb7a5002d807140a90948c3635bfc2e/azureml_core-1.0.17.1-py2.py3-none-any.whl\n",
      "Requirement already satisfied: adal>=1.2.0 in c:\\programdata\\miniconda3\\envs\\iotedge\\lib\\site-packages (from azureml-core==1.0.17.*->azureml-contrib-iot) (1.2.0)\n",
      "Requirement already satisfied: python-dateutil>=2.7.3 in c:\\programdata\\miniconda3\\envs\\iotedge\\lib\\site-packages (from azureml-core==1.0.17.*->azureml-contrib-iot) (2.7.5)\n",
      "Requirement already satisfied: pytz in c:\\programdata\\miniconda3\\envs\\iotedge\\lib\\site-packages (from azureml-core==1.0.17.*->azureml-contrib-iot) (2018.9)\n",
      "Requirement already satisfied: azure-mgmt-storage>=1.5.0 in c:\\programdata\\miniconda3\\envs\\iotedge\\lib\\site-packages (from azureml-core==1.0.17.*->azureml-contrib-iot) (3.1.1)\n",
      "Requirement already satisfied: cryptography!=1.9,!=2.0.*,!=2.1.*,!=2.2.*,<2.6 in c:\\programdata\\miniconda3\\envs\\iotedge\\lib\\site-packages (from azureml-core==1.0.17.*->azureml-contrib-iot) (2.4.2)\n",
      "Requirement already satisfied: azure-common>=1.1.12 in c:\\programdata\\miniconda3\\envs\\iotedge\\lib\\site-packages (from azureml-core==1.0.17.*->azureml-contrib-iot) (1.1.16)\n",
      "Requirement already satisfied: jmespath in c:\\programdata\\miniconda3\\envs\\iotedge\\lib\\site-packages (from azureml-core==1.0.17.*->azureml-contrib-iot) (0.9.3)\n",
      "Requirement already satisfied: msrestazure>=0.4.33 in c:\\programdata\\miniconda3\\envs\\iotedge\\lib\\site-packages (from azureml-core==1.0.17.*->azureml-contrib-iot) (0.6.0)\n",
      "Requirement already satisfied: PyJWT in c:\\programdata\\miniconda3\\envs\\iotedge\\lib\\site-packages (from azureml-core==1.0.17.*->azureml-contrib-iot) (1.7.1)\n",
      "Requirement already satisfied: ndg-httpsclient in c:\\programdata\\miniconda3\\envs\\iotedge\\lib\\site-packages (from azureml-core==1.0.17.*->azureml-contrib-iot) (0.5.1)\n",
      "Requirement already satisfied: docker in c:\\programdata\\miniconda3\\envs\\iotedge\\lib\\site-packages (from azureml-core==1.0.17.*->azureml-contrib-iot) (3.6.0)\n",
      "Requirement already satisfied: contextlib2 in c:\\programdata\\miniconda3\\envs\\iotedge\\lib\\site-packages (from azureml-core==1.0.17.*->azureml-contrib-iot) (0.5.5)\n",
      "Requirement already satisfied: azure-mgmt-containerregistry>=2.0.0 in c:\\programdata\\miniconda3\\envs\\iotedge\\lib\\site-packages (from azureml-core==1.0.17.*->azureml-contrib-iot) (2.6.0)\n",
      "Requirement already satisfied: ruamel.yaml<=0.15.51,>=0.15.35 in c:\\programdata\\miniconda3\\envs\\iotedge\\lib\\site-packages (from azureml-core==1.0.17.*->azureml-contrib-iot) (0.15.51)\n",
      "Requirement already satisfied: paramiko>=2.0.8 in c:\\programdata\\miniconda3\\envs\\iotedge\\lib\\site-packages (from azureml-core==1.0.17.*->azureml-contrib-iot) (2.4.2)\n",
      "Requirement already satisfied: pyyaml>=3.13 in c:\\programdata\\miniconda3\\envs\\iotedge\\lib\\site-packages (from azureml-core==1.0.17.*->azureml-contrib-iot) (3.13)\n",
      "Requirement already satisfied: pathspec in c:\\programdata\\miniconda3\\envs\\iotedge\\lib\\site-packages (from azureml-core==1.0.17.*->azureml-contrib-iot) (0.5.9)\n",
      "Requirement already satisfied: azure-graphrbac>=0.40.0 in c:\\programdata\\miniconda3\\envs\\iotedge\\lib\\site-packages (from azureml-core==1.0.17.*->azureml-contrib-iot) (0.53.0)\n",
      "Requirement already satisfied: pyopenssl in c:\\programdata\\miniconda3\\envs\\iotedge\\lib\\site-packages (from azureml-core==1.0.17.*->azureml-contrib-iot) (18.0.0)\n",
      "Requirement already satisfied: requests>=2.19.1 in c:\\programdata\\miniconda3\\envs\\iotedge\\lib\\site-packages (from azureml-core==1.0.17.*->azureml-contrib-iot) (2.21.0)\n",
      "Requirement already satisfied: SecretStorage in c:\\programdata\\miniconda3\\envs\\iotedge\\lib\\site-packages (from azureml-core==1.0.17.*->azureml-contrib-iot) (2.3.1)\n",
      "Requirement already satisfied: six>=1.11.0 in c:\\programdata\\miniconda3\\envs\\iotedge\\lib\\site-packages (from azureml-core==1.0.17.*->azureml-contrib-iot) (1.12.0)\n",
      "Requirement already satisfied: urllib3>=1.23 in c:\\programdata\\miniconda3\\envs\\iotedge\\lib\\site-packages (from azureml-core==1.0.17.*->azureml-contrib-iot) (1.23)\n",
      "Requirement already satisfied: azure-mgmt-keyvault>=0.40.0 in c:\\programdata\\miniconda3\\envs\\iotedge\\lib\\site-packages (from azureml-core==1.0.17.*->azureml-contrib-iot) (1.1.0)\n",
      "Requirement already satisfied: azure-mgmt-resource>=1.2.1 in c:\\programdata\\miniconda3\\envs\\iotedge\\lib\\site-packages (from azureml-core==1.0.17.*->azureml-contrib-iot) (2.1.0)\n",
      "Requirement already satisfied: azure-mgmt-authorization>=0.40.0 in c:\\programdata\\miniconda3\\envs\\iotedge\\lib\\site-packages (from azureml-core==1.0.17.*->azureml-contrib-iot) (0.51.1)\n",
      "Requirement already satisfied: backports.tempfile in c:\\programdata\\miniconda3\\envs\\iotedge\\lib\\site-packages (from azureml-core==1.0.17.*->azureml-contrib-iot) (1.0)\n",
      "Requirement already satisfied: msrest>=0.5.1 in c:\\programdata\\miniconda3\\envs\\iotedge\\lib\\site-packages (from azureml-core==1.0.17.*->azureml-contrib-iot) (0.6.4)\n",
      "Requirement already satisfied: jsonpickle in c:\\programdata\\miniconda3\\envs\\iotedge\\lib\\site-packages (from azureml-core==1.0.17.*->azureml-contrib-iot) (1.0)\n",
      "Requirement already satisfied: asn1crypto>=0.21.0 in c:\\programdata\\miniconda3\\envs\\iotedge\\lib\\site-packages (from cryptography!=1.9,!=2.0.*,!=2.1.*,!=2.2.*,<2.6->azureml-core==1.0.17.*->azureml-contrib-iot) (0.24.0)\n",
      "Requirement already satisfied: cffi!=1.11.3,>=1.7 in c:\\programdata\\miniconda3\\envs\\iotedge\\lib\\site-packages (from cryptography!=1.9,!=2.0.*,!=2.1.*,!=2.2.*,<2.6->azureml-core==1.0.17.*->azureml-contrib-iot) (1.11.5)\n",
      "Requirement already satisfied: idna>=2.1 in c:\\programdata\\miniconda3\\envs\\iotedge\\lib\\site-packages (from cryptography!=1.9,!=2.0.*,!=2.1.*,!=2.2.*,<2.6->azureml-core==1.0.17.*->azureml-contrib-iot) (2.8)\n",
      "Requirement already satisfied: pyasn1>=0.1.1 in c:\\programdata\\miniconda3\\envs\\iotedge\\lib\\site-packages (from ndg-httpsclient->azureml-core==1.0.17.*->azureml-contrib-iot) (0.4.5)\n",
      "Requirement already satisfied: pypiwin32==223; sys_platform == \"win32\" and python_version >= \"3.6\" in c:\\programdata\\miniconda3\\envs\\iotedge\\lib\\site-packages (from docker->azureml-core==1.0.17.*->azureml-contrib-iot) (223)\n",
      "Requirement already satisfied: docker-pycreds>=0.3.0 in c:\\programdata\\miniconda3\\envs\\iotedge\\lib\\site-packages (from docker->azureml-core==1.0.17.*->azureml-contrib-iot) (0.4.0)\n",
      "Requirement already satisfied: websocket-client>=0.32.0 in c:\\programdata\\miniconda3\\envs\\iotedge\\lib\\site-packages (from docker->azureml-core==1.0.17.*->azureml-contrib-iot) (0.54.0)\n",
      "Requirement already satisfied: bcrypt>=3.1.3 in c:\\programdata\\miniconda3\\envs\\iotedge\\lib\\site-packages (from paramiko>=2.0.8->azureml-core==1.0.17.*->azureml-contrib-iot) (3.1.5)\n",
      "Requirement already satisfied: pynacl>=1.0.1 in c:\\programdata\\miniconda3\\envs\\iotedge\\lib\\site-packages (from paramiko>=2.0.8->azureml-core==1.0.17.*->azureml-contrib-iot) (1.3.0)\n",
      "Requirement already satisfied: certifi>=2017.4.17 in c:\\programdata\\miniconda3\\envs\\iotedge\\lib\\site-packages (from requests>=2.19.1->azureml-core==1.0.17.*->azureml-contrib-iot) (2018.11.29)\n",
      "Requirement already satisfied: chardet<3.1.0,>=3.0.2 in c:\\programdata\\miniconda3\\envs\\iotedge\\lib\\site-packages (from requests>=2.19.1->azureml-core==1.0.17.*->azureml-contrib-iot) (3.0.4)\n",
      "Requirement already satisfied: azure-mgmt-nspkg>=2.0.0 in c:\\programdata\\miniconda3\\envs\\iotedge\\lib\\site-packages (from azure-mgmt-keyvault>=0.40.0->azureml-core==1.0.17.*->azureml-contrib-iot) (3.0.2)\n",
      "Requirement already satisfied: backports.weakref in c:\\programdata\\miniconda3\\envs\\iotedge\\lib\\site-packages (from backports.tempfile->azureml-core==1.0.17.*->azureml-contrib-iot) (1.0.post1)\n",
      "Requirement already satisfied: isodate>=0.6.0 in c:\\programdata\\miniconda3\\envs\\iotedge\\lib\\site-packages (from msrest>=0.5.1->azureml-core==1.0.17.*->azureml-contrib-iot) (0.6.0)\n",
      "Requirement already satisfied: requests-oauthlib>=0.5.0 in c:\\programdata\\miniconda3\\envs\\iotedge\\lib\\site-packages (from msrest>=0.5.1->azureml-core==1.0.17.*->azureml-contrib-iot) (1.1.0)\n",
      "Requirement already satisfied: pycparser in c:\\programdata\\miniconda3\\envs\\iotedge\\lib\\site-packages (from cffi!=1.11.3,>=1.7->cryptography!=1.9,!=2.0.*,!=2.1.*,!=2.2.*,<2.6->azureml-core==1.0.17.*->azureml-contrib-iot) (2.19)\n",
      "Requirement already satisfied: pywin32>=223 in c:\\programdata\\miniconda3\\envs\\iotedge\\lib\\site-packages (from pypiwin32==223; sys_platform == \"win32\" and python_version >= \"3.6\"->docker->azureml-core==1.0.17.*->azureml-contrib-iot) (224)\n",
      "Requirement already satisfied: azure-nspkg>=3.0.0 in c:\\programdata\\miniconda3\\envs\\iotedge\\lib\\site-packages (from azure-mgmt-nspkg>=2.0.0->azure-mgmt-keyvault>=0.40.0->azureml-core==1.0.17.*->azureml-contrib-iot) (3.0.2)\n",
      "Requirement already satisfied: oauthlib<3.0.0,>=2.1.0 in c:\\programdata\\miniconda3\\envs\\iotedge\\lib\\site-packages (from requests-oauthlib>=0.5.0->msrest>=0.5.1->azureml-core==1.0.17.*->azureml-contrib-iot) (2.1.0)\n",
      "Installing collected packages: azureml-core, azureml-contrib-iot\n",
      "Successfully installed azureml-contrib-iot-1.0.17 azureml-core-1.0.17.1\n"
     ]
    },
    {
     "name": "stderr",
     "output_type": "stream",
     "text": [
      "azureml-widgets 1.0.10 has requirement azureml-core==1.0.10.*, but you'll have azureml-core 1.0.17.1 which is incompatible.\n",
      "azureml-train-core 1.0.10 has requirement azureml-core==1.0.10.*, but you'll have azureml-core 1.0.17.1 which is incompatible.\n",
      "azureml-telemetry 1.0.10 has requirement azureml-core==1.0.10.*, but you'll have azureml-core 1.0.17.1 which is incompatible.\n",
      "azureml-sdk 1.0.10 has requirement azureml-core==1.0.10.*, but you'll have azureml-core 1.0.17.1 which is incompatible.\n",
      "azureml-pipeline-core 1.0.10 has requirement azureml-core==1.0.10.*, but you'll have azureml-core 1.0.17.1 which is incompatible.\n",
      "azureml-contrib-tensorboard 1.0.6 has requirement azureml-core==1.0.6.*, but you'll have azureml-core 1.0.17.1 which is incompatible.\n",
      "azureml-contrib-services 1.0.6 has requirement azureml-core==1.0.6.*, but you'll have azureml-core 1.0.17.1 which is incompatible.\n",
      "azureml-contrib-server 1.0.6 has requirement azureml-core==1.0.6.*, but you'll have azureml-core 1.0.17.1 which is incompatible.\n",
      "azureml-contrib-run 1.0.6 has requirement azureml-core==1.0.6.*, but you'll have azureml-core 1.0.17.1 which is incompatible.\n",
      "azureml-contrib-brainwave 1.0.6 has requirement azureml-core==1.0.6.*, but you'll have azureml-core 1.0.17.1 which is incompatible.\n"
     ]
    },
    {
     "name": "stdout",
     "output_type": "stream",
     "text": [
      "Requirement already satisfied: azure-mgmt-containerregistry in c:\\programdata\\miniconda3\\envs\\iotedge\\lib\\site-packages (2.6.0)\n",
      "Requirement already satisfied: msrestazure<2.0.0,>=0.4.32 in c:\\programdata\\miniconda3\\envs\\iotedge\\lib\\site-packages (from azure-mgmt-containerregistry) (0.6.0)\n",
      "Requirement already satisfied: azure-common~=1.1 in c:\\programdata\\miniconda3\\envs\\iotedge\\lib\\site-packages (from azure-mgmt-containerregistry) (1.1.16)\n",
      "Requirement already satisfied: msrest>=0.5.0 in c:\\programdata\\miniconda3\\envs\\iotedge\\lib\\site-packages (from azure-mgmt-containerregistry) (0.6.4)\n",
      "Requirement already satisfied: adal<2.0.0,>=0.6.0 in c:\\programdata\\miniconda3\\envs\\iotedge\\lib\\site-packages (from msrestazure<2.0.0,>=0.4.32->azure-mgmt-containerregistry) (1.2.0)\n",
      "Requirement already satisfied: isodate>=0.6.0 in c:\\programdata\\miniconda3\\envs\\iotedge\\lib\\site-packages (from msrest>=0.5.0->azure-mgmt-containerregistry) (0.6.0)\n",
      "Requirement already satisfied: requests-oauthlib>=0.5.0 in c:\\programdata\\miniconda3\\envs\\iotedge\\lib\\site-packages (from msrest>=0.5.0->azure-mgmt-containerregistry) (1.1.0)\n",
      "Requirement already satisfied: requests~=2.16 in c:\\programdata\\miniconda3\\envs\\iotedge\\lib\\site-packages (from msrest>=0.5.0->azure-mgmt-containerregistry) (2.21.0)\n",
      "Requirement already satisfied: certifi>=2017.4.17 in c:\\programdata\\miniconda3\\envs\\iotedge\\lib\\site-packages (from msrest>=0.5.0->azure-mgmt-containerregistry) (2018.11.29)\n",
      "Requirement already satisfied: cryptography>=1.1.0 in c:\\programdata\\miniconda3\\envs\\iotedge\\lib\\site-packages (from adal<2.0.0,>=0.6.0->msrestazure<2.0.0,>=0.4.32->azure-mgmt-containerregistry) (2.4.2)\n",
      "Requirement already satisfied: PyJWT>=1.0.0 in c:\\programdata\\miniconda3\\envs\\iotedge\\lib\\site-packages (from adal<2.0.0,>=0.6.0->msrestazure<2.0.0,>=0.4.32->azure-mgmt-containerregistry) (1.7.1)\n",
      "Requirement already satisfied: python-dateutil>=2.1.0 in c:\\programdata\\miniconda3\\envs\\iotedge\\lib\\site-packages (from adal<2.0.0,>=0.6.0->msrestazure<2.0.0,>=0.4.32->azure-mgmt-containerregistry) (2.7.5)\n",
      "Requirement already satisfied: six in c:\\programdata\\miniconda3\\envs\\iotedge\\lib\\site-packages (from isodate>=0.6.0->msrest>=0.5.0->azure-mgmt-containerregistry) (1.12.0)\n",
      "Requirement already satisfied: oauthlib<3.0.0,>=2.1.0 in c:\\programdata\\miniconda3\\envs\\iotedge\\lib\\site-packages (from requests-oauthlib>=0.5.0->msrest>=0.5.0->azure-mgmt-containerregistry) (2.1.0)\n",
      "Requirement already satisfied: urllib3<1.25,>=1.21.1 in c:\\programdata\\miniconda3\\envs\\iotedge\\lib\\site-packages (from requests~=2.16->msrest>=0.5.0->azure-mgmt-containerregistry) (1.23)\n",
      "Requirement already satisfied: chardet<3.1.0,>=3.0.2 in c:\\programdata\\miniconda3\\envs\\iotedge\\lib\\site-packages (from requests~=2.16->msrest>=0.5.0->azure-mgmt-containerregistry) (3.0.4)\n",
      "Requirement already satisfied: idna<2.9,>=2.5 in c:\\programdata\\miniconda3\\envs\\iotedge\\lib\\site-packages (from requests~=2.16->msrest>=0.5.0->azure-mgmt-containerregistry) (2.8)\n",
      "Requirement already satisfied: cffi!=1.11.3,>=1.7 in c:\\programdata\\miniconda3\\envs\\iotedge\\lib\\site-packages (from cryptography>=1.1.0->adal<2.0.0,>=0.6.0->msrestazure<2.0.0,>=0.4.32->azure-mgmt-containerregistry) (1.11.5)\n",
      "Requirement already satisfied: asn1crypto>=0.21.0 in c:\\programdata\\miniconda3\\envs\\iotedge\\lib\\site-packages (from cryptography>=1.1.0->adal<2.0.0,>=0.6.0->msrestazure<2.0.0,>=0.4.32->azure-mgmt-containerregistry) (0.24.0)\n",
      "Requirement already satisfied: pycparser in c:\\programdata\\miniconda3\\envs\\iotedge\\lib\\site-packages (from cffi!=1.11.3,>=1.7->cryptography>=1.1.0->adal<2.0.0,>=0.6.0->msrestazure<2.0.0,>=0.4.32->azure-mgmt-containerregistry) (2.19)\n"
     ]
    }
   ],
   "source": [
    "# For prod\n",
    "!pip install azureml-core\n",
    "!pip install azureml-contrib-iot --user\n",
    "!pip install azure-mgmt-containerregistry   "
   ]
  },
  {
   "cell_type": "code",
   "execution_count": 3,
   "metadata": {},
   "outputs": [
    {
     "name": "stdout",
     "output_type": "stream",
     "text": [
      "C:\\ProgramData\\Miniconda3\\envs\\iotedge\\lib\\os.py\n"
     ]
    }
   ],
   "source": [
    "import os\n",
    "print(os.__file__)"
   ]
  },
  {
   "cell_type": "code",
   "execution_count": 4,
   "metadata": {},
   "outputs": [
    {
     "name": "stdout",
     "output_type": "stream",
     "text": [
      "SDK version: 1.0.17\n"
     ]
    }
   ],
   "source": [
    "# Check core SDK version number\n",
    "import azureml.core as azcore\n",
    "\n",
    "print(\"SDK version:\", azcore.VERSION)"
   ]
  },
  {
   "cell_type": "markdown",
   "metadata": {},
   "source": [
    "### Create a Workspace\n",
    "#### Change this cell from markdown to code and run this if you need to create a workspace \n",
    "#### Update the values for your workspace below\n",
    "ws=Workspace.create(subscription_id=\"replace-with-subscription-id\",\n",
    "                resource_group=\"your-resource-group\",\n",
    "                name=\"your-workspace-name\",\n",
    "                location=\"eastus2\")\n",
    "                \n",
    "ws.write_config()"
   ]
  },
  {
   "cell_type": "code",
   "execution_count": 5,
   "metadata": {},
   "outputs": [
    {
     "name": "stderr",
     "output_type": "stream",
     "text": [
      "Warning: Falling back to use azure cli login credentials.\n",
      "If you run your code in unattended mode, i.e., where you can't give a user input, then we recommend to use ServicePrincipalAuthentication or MsiAuthentication.\n",
      "Please refer to aka.ms/aml-notebook-auth for different authentication mechanisms in azureml-sdk.\n"
     ]
    },
    {
     "name": "stdout",
     "output_type": "stream",
     "text": [
      "Found the config file in: C:\\Users\\tedway\\git\\vision-ai-developer-kit\\machine-learning-reference\\notebooks\\aml_config\\config.json\n",
      "aml-vdaik-1\n",
      "tedway-vienna1-rg\n",
      "eastus2\n",
      "75f78a03-482f-4fd8-8c71-5ddc08f92726\n"
     ]
    }
   ],
   "source": [
    "#Initialize Workspace \n",
    "from azureml.core import Workspace\n",
    "\n",
    "ws = Workspace.from_config()\n",
    "print(ws.name, ws.resource_group, ws.location, ws.subscription_id, sep = '\\n')"
   ]
  },
  {
   "cell_type": "markdown",
   "metadata": {},
   "source": [
    "### Register model\n",
    "Download the model files from customvision.ai."
   ]
  },
  {
   "cell_type": "code",
   "execution_count": 6,
   "metadata": {},
   "outputs": [
    {
     "name": "stdout",
     "output_type": "stream",
     "text": [
      "Registering model forks_scissors\n",
      "forks_scissors aml://asset/4c875ec7dd4644bba74339b80608d005 3 forks_scissors:3 2019-03-07 20:08:34.817776+00:00\n"
     ]
    }
   ],
   "source": [
    "from azureml.core.model import Model\n",
    "\n",
    "model = Model.register(model_path = \"models/squeezenet-forks/orig/\",\n",
    "                      model_name = \"forks_scissors\",\n",
    "                      tags = {\"data\": \"customvision\", \"model\": \"object_detection\", \"type\": \"squeezenet\"},\n",
    "                      description = \"Retrained forks and scissors based on Squeezenet\",\n",
    "                      workspace = ws)\n",
    "print(model.name, model.url, model.version, model.id, model.created_time)"
   ]
  },
  {
   "cell_type": "code",
   "execution_count": null,
   "metadata": {},
   "outputs": [],
   "source": [
    "from azureml.contrib.iot.model_converters import SnpeConverter\n",
    "\n",
    "# submit a compile request\n",
    "compile_request = SnpeConverter.convert_caffe_model(\n",
    "    ws,\n",
    "    source_model=model,\n",
    "    mirror_content = True)\n",
    "print(compile_request._operation_id)"
   ]
  },
  {
   "cell_type": "code",
   "execution_count": null,
   "metadata": {
    "scrolled": true
   },
   "outputs": [],
   "source": [
    "# wait for the request to complete\n",
    "compile_request.wait_for_completion(show_output=True)"
   ]
  },
  {
   "cell_type": "code",
   "execution_count": null,
   "metadata": {},
   "outputs": [],
   "source": [
    "# Get converted model\n",
    "converted_model = compile_request.result\n",
    "print(converted_model.name, converted_model.url, converted_model.version, converted_model.id, converted_model.created_time)"
   ]
  },
  {
   "cell_type": "code",
   "execution_count": null,
   "metadata": {},
   "outputs": [],
   "source": [
    "from azureml.core.image import Image\n",
    "from azureml.contrib.iot import IotContainerImage\n",
    "print ('We will create an image for you now ...')\n",
    "image_config = IotContainerImage.image_configuration(\n",
    "                                 architecture=\"arm32v7\",\n",
    "                                 execution_script=\"main.py\", \n",
    "                                 dependencies=[\"camera.py\",\"iot.py\",\"ipcprovider.py\",\"utility.py\", \"frame_iterators.py\"],\n",
    "                                 docker_file=\"Dockerfile\", \n",
    "                                 tags = [\"squeezenet\"],\n",
    "                                 description = \"Squeezenet model from customvision.ai\")\n",
    "image = Image.create(name = \"forksscissors\",\n",
    "                     # this is the model object \n",
    "                     models = [converted_model],\n",
    "                     image_config = image_config, \n",
    "                     workspace = ws)\n",
    "image.wait_for_creation(show_output = True)"
   ]
  },
  {
   "cell_type": "code",
   "execution_count": null,
   "metadata": {},
   "outputs": [],
   "source": [
    "# Parameter list\n",
    "\n",
    "# Pick a name for what you want to call the module you deploy to the camera\n",
    "module_name = \"visionsample\"\n",
    "\n",
    "# Resource group in Azure \n",
    "resource_group_name= ws.resource_group\n",
    "iot_rg=\"vaidk_\"+resource_group_name\n",
    "\n",
    "# Azure region where your services will be provisioned\n",
    "iot_location=\"eastus2\"\n",
    "\n",
    "# Azure IoT Hub name\n",
    "iot_hub_name=\"iothub-\"+ ws.get_details()[\"name\"]\n",
    "\n",
    "# Pick a name for your camera\n",
    "iot_device_id=\"vadik_\"+ ws.get_details()[\"name\"]\n",
    "\n",
    "# Pick a name for the deployment configuration\n",
    "iot_deployment_id=\"demovaidk\""
   ]
  },
  {
   "cell_type": "code",
   "execution_count": null,
   "metadata": {},
   "outputs": [],
   "source": [
    "# Getting your container details\n",
    "container_reg = ws.get_details()[\"containerRegistry\"]\n",
    "reg_name=container_reg.split(\"/\")[-1]\n",
    "container_url = \"\\\"\" + image.image_location + \"\\\",\"\n",
    "subscription_id = ws.subscription_id\n",
    "print('{}'.format(image.image_location))\n",
    "print('{}'.format(reg_name))\n",
    "print('{}'.format(subscription_id))\n",
    "from azure.mgmt.containerregistry import ContainerRegistryManagementClient\n",
    "from azure.mgmt import containerregistry\n",
    "client = ContainerRegistryManagementClient(ws._auth,subscription_id)\n",
    "result= client.registries.list_credentials(resource_group_name, reg_name, custom_headers=None, raw=False)\n",
    "username = result.username\n",
    "password = result.passwords[0].value"
   ]
  },
  {
   "cell_type": "markdown",
   "metadata": {},
   "source": [
    "### Deployment file\n",
    "This is the deployment.json file that you will use to deploy your model.  Please see the other sample notebooks on using this file to deploy the new model you created."
   ]
  },
  {
   "cell_type": "code",
   "execution_count": null,
   "metadata": {},
   "outputs": [],
   "source": [
    "file = open('./deployment-template.json')\n",
    "contents = file.read()\n",
    "contents = contents.replace('__MODULE_NAME', module_name)\n",
    "contents = contents.replace('__REGISTRY_NAME', reg_name)\n",
    "contents = contents.replace('__REGISTRY_USER_NAME', username)\n",
    "contents = contents.replace('__REGISTRY_PASSWORD', password)\n",
    "contents = contents.replace('__REGISTRY_IMAGE_LOCATION', image.image_location)\n",
    "with open('./deployment.json', 'wt', encoding='utf-8') as output_file:\n",
    "    output_file.write(contents)"
   ]
  },
  {
   "cell_type": "code",
   "execution_count": null,
   "metadata": {},
   "outputs": [],
   "source": []
  }
 ],
 "metadata": {
  "kernelspec": {
   "display_name": "iotedge",
   "language": "python",
   "name": "iotedge"
  },
  "language_info": {
   "codemirror_mode": {
    "name": "ipython",
    "version": 3
   },
   "file_extension": ".py",
   "mimetype": "text/x-python",
   "name": "python",
   "nbconvert_exporter": "python",
   "pygments_lexer": "ipython3",
   "version": "3.6.8"
  }
 },
 "nbformat": 4,
 "nbformat_minor": 2
}

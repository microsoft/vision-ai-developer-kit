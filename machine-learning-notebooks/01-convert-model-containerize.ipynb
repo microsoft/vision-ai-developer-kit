{
 "cells": [
  {
   "cell_type": "markdown",
   "metadata": {},
   "source": [
    "Copyright (c) Microsoft Corporation. All rights reserved.\n",
    "\n",
    "Licensed under the MIT License."
   ]
  },
  {
   "cell_type": "markdown",
   "metadata": {},
   "source": [
    "# Convert Model and Containerize\n",
    "* Create Workspace\n",
    "* Register Demo model\n",
    "* Build Image \n",
    "* Create Hub and Prepare for device and deploy\n",
    "* Deploy Model"
   ]
  },
  {
   "cell_type": "markdown",
   "metadata": {},
   "source": [
    "![title](aml_config/AMLimages/VAIDKe2e.png)"
   ]
  },
  {
   "cell_type": "code",
   "execution_count": null,
   "metadata": {
    "scrolled": true
   },
   "outputs": [],
   "source": [
    "# For prod\n",
    "!source activate py36 && pip install azureml-core azureml-contrib-iot azure-mgmt-containerregistry azure-cli\n",
    "!source activate py36 && az extension add --name azure-cli-iot-ext"
   ]
  },
  {
   "cell_type": "code",
   "execution_count": null,
   "metadata": {},
   "outputs": [],
   "source": [
    "import os\n",
    "\n",
    "# Ensure you are running from the correct environment\n",
    "import sys\n",
    "sys.executable"
   ]
  },
  {
   "cell_type": "code",
   "execution_count": null,
   "metadata": {},
   "outputs": [],
   "source": [
    "# Check core SDK version number\n",
    "import azureml.core\n",
    "\n",
    "print(\"SDK version:\", azureml.core.VERSION)\n",
    "from azureml.core import Workspace"
   ]
  },
  {
   "cell_type": "markdown",
   "metadata": {},
   "source": [
    "### Create a Workspace\n",
    "#### Change this cell from markdown to code and run this if you need to create a workspace \n",
    "ws=Workspace.create(subscription_id=\"your-subscription-ID-goes-here\",\n",
    "                resource_group=\"your-resource-group-goes-here\",\n",
    "                name=\"your-ML-workspace-name-goes-here\",\n",
    "                location=\"location-of-your-ML-workspace\")\n",
    "                \n",
    "ws.write_config()"
   ]
  },
  {
   "cell_type": "code",
   "execution_count": null,
   "metadata": {},
   "outputs": [],
   "source": [
    "#Initialize Workspace \n",
    "from azureml.core import Workspace\n",
    "\n",
    "ws = Workspace.from_config()\n",
    "print(ws.name, ws.resource_group, ws.location, ws.subscription_id, sep = '\\n')"
   ]
  },
  {
   "cell_type": "markdown",
   "metadata": {},
   "source": [
    "## Parameters\n",
    "Enter your parameters for the next  automated steps:\n",
    "- Creation of a workspace, \n",
    "- Creation of IoT Hub, \n",
    "- Device registration, \n",
    "- Demo model registration,\n",
    "- Creation of Model Image for Azure IoT Edge Module deployment \n",
    "- Device Deployment setup\n",
    "After this step you will need to copy your connection string and provide it to your device "
   ]
  },
  {
   "cell_type": "code",
   "execution_count": null,
   "metadata": {},
   "outputs": [],
   "source": [
    "# Parameter list\n",
    "\n",
    "# Pick a name for what you want to call the module you deploy to the camera\n",
    "module_name = \"visionsample\"\n",
    "\n",
    "# Resource group in Azure \n",
    "resource_group_name= ws.resource_group\n",
    "iot_rg=\"vaidk_\"+resource_group_name\n",
    "\n",
    "# Azure region where your services will be provisioned\n",
    "iot_location=\"eastus2\"\n",
    "\n",
    "# Azure IoT Hub name\n",
    "iot_hub_name=\"iothub-\"+ ws.get_details()[\"name\"]\n",
    "\n",
    "# Pick a name for your camera\n",
    "iot_device_id=\"vadik_\"+ ws.get_details()[\"name\"]\n",
    "\n",
    "# Pick a name for the deployment configuration\n",
    "iot_deployment_id=\"demovaidk\""
   ]
  },
  {
   "cell_type": "markdown",
   "metadata": {},
   "source": [
    "# MobileNet ImageNet model"
   ]
  },
  {
   "cell_type": "markdown",
   "metadata": {},
   "source": [
    "This step uses the trained model from your local folder in the Notebooks shell.\n",
    "There are three files (i) the model_name.pb file, (ii) the lables_names.txt and (iii) va-snpe-engine-library_config.json, in this folder. \n",
    "This va-snpe-engine-library_config file is used by the camera when loading the model into the inference engine.\n",
    "\n",
    "# key fields are \n",
    "Engine: This is the network used by the model\n",
    "    0: MobileNet\n",
    "    1: MobileNet-SSD \n",
    "    2: SqueezeNet\n",
    "NetworkIO: \n",
    "    0: CPU (default)\n",
    "    1: DSP\n",
    "Runtime: this is the HW option to use for inferencing\n",
    "    0: CPU \n",
    "    1: DSP \n",
    "    2: GPU\n",
    "ConfThreshold: This is the threshold for when the bounding boxes are shown or inferencing results are shown on screen."
   ]
  },
  {
   "cell_type": "markdown",
   "metadata": {},
   "source": [
    "![title](aml_config/AMLimages/Image.png)"
   ]
  },
  {
   "cell_type": "code",
   "execution_count": null,
   "metadata": {},
   "outputs": [],
   "source": [
    "from azureml.core.model import Model\n",
    "\n",
    "model = Model.register(model_path = \"models/mobilenet-imagenet/\",\n",
    "                       model_name = \"imagenet_2_frozen.pb\",\n",
    "                       tags = {'Device': \"peabody\", 'type': \"mobilenet\", 'area': \"iot\", 'version': \"1.0\"},\n",
    "                       description = \"TF SNPE quantization friendly MobileNet\",\n",
    "                       workspace = ws)\n",
    "\n",
    "print(model.name, model.url, model.version, model.id, model.created_time)"
   ]
  },
  {
   "cell_type": "code",
   "execution_count": null,
   "metadata": {},
   "outputs": [],
   "source": [
    "print(model.name, model.url, model.version, model.id, model.created_time)"
   ]
  },
  {
   "cell_type": "code",
   "execution_count": null,
   "metadata": {},
   "outputs": [],
   "source": [
    "# You can download the model to see what was registered\n",
    "# model.download()"
   ]
  },
  {
   "cell_type": "markdown",
   "metadata": {},
   "source": [
    "### Convert Model to run on the Vision AI Dev Kit"
   ]
  },
  {
   "cell_type": "code",
   "execution_count": null,
   "metadata": {},
   "outputs": [],
   "source": [
    "from azureml.contrib.iot.model_converters import SnpeConverter\n",
    "\n",
    "# submit a compile request\n",
    "compile_request = SnpeConverter.convert_tf_model(\n",
    "    ws,\n",
    "    source_model=model,\n",
    "    input_node=\"input\",\n",
    "    input_dims=\"1,224,224,3\",\n",
    "    outputs_nodes = [\"MobilenetV1/Predictions/Reshape_1\"],\n",
    "    allow_unconsumed_nodes = True)\n",
    "print(compile_request._operation_id)"
   ]
  },
  {
   "cell_type": "code",
   "execution_count": null,
   "metadata": {},
   "outputs": [],
   "source": [
    "# Wait for the request to complete\n",
    "compile_request.wait_for_completion(show_output=True, timeout=60)"
   ]
  },
  {
   "cell_type": "code",
   "execution_count": null,
   "metadata": {},
   "outputs": [],
   "source": [
    "# Get the converted model\n",
    "converted_model = compile_request.result\n",
    "print(converted_model.name, converted_model.url, converted_model.version, converted_model.id, converted_model.created_time)"
   ]
  },
  {
   "cell_type": "code",
   "execution_count": null,
   "metadata": {},
   "outputs": [],
   "source": [
    "# You can downlaod the model to see what the conversion result was\n",
    "# converted_model.download()"
   ]
  },
  {
   "cell_type": "markdown",
   "metadata": {},
   "source": [
    "### Build the container image for IoT to deploy to the Vision AI Dev Kit"
   ]
  },
  {
   "cell_type": "code",
   "execution_count": null,
   "metadata": {},
   "outputs": [],
   "source": [
    "# NEW version of main.py\n",
    "from azureml.core.image import Image\n",
    "from azureml.contrib.iot import IotContainerImage\n",
    "print ('We will create an image for you now ...')\n",
    "image_config = IotContainerImage.image_configuration(\n",
    "                                 architecture=\"arm32v7\",\n",
    "                                 execution_script=\"main.py\", \n",
    "                                 dependencies=[\"camera.py\",\"iot.py\",\"ipcprovider.py\",\"utility.py\", \"frame_iterators.py\"],\n",
    "                                 docker_file=\"Dockerfile\", \n",
    "                                 tags = [\"mobilenet\"],\n",
    "                                 description = \"Updated MobileNet trained on ImageNet\")\n",
    "image = Image.create(name = \"mobilenetimagenet\",\n",
    "                     # this is the model object \n",
    "                     models = [converted_model],\n",
    "                     image_config = image_config, \n",
    "                     workspace = ws)\n",
    "image.wait_for_creation(show_output = True)"
   ]
  },
  {
   "cell_type": "code",
   "execution_count": null,
   "metadata": {
    "scrolled": true
   },
   "outputs": [],
   "source": [
    "# Getting your container details\n",
    "container_reg = ws.get_details()[\"containerRegistry\"]\n",
    "reg_name=container_reg.split(\"/\")[-1]\n",
    "container_url = \"\\\"\" + image.image_location + \"\\\",\"\n",
    "subscription_id = ws.subscription_id\n",
    "print('{}'.format(image.image_location))\n",
    "print('{}'.format(reg_name))\n",
    "print('{}'.format(subscription_id))\n",
    "from azure.mgmt.containerregistry import ContainerRegistryManagementClient\n",
    "from azure.mgmt import containerregistry\n",
    "client = ContainerRegistryManagementClient(ws._auth,subscription_id)\n",
    "result= client.registries.list_credentials(resource_group_name, reg_name, custom_headers=None, raw=False)\n",
    "username = result.username\n",
    "password = result.passwords[0].value"
   ]
  },
  {
   "cell_type": "code",
   "execution_count": null,
   "metadata": {},
   "outputs": [],
   "source": [
    "file = open('./deployment-template.json')\n",
    "contents = file.read()\n",
    "contents = contents.replace('__MODULE_NAME', module_name)\n",
    "contents = contents.replace('__REGISTRY_NAME', reg_name)\n",
    "contents = contents.replace('__REGISTRY_USER_NAME', username)\n",
    "contents = contents.replace('__REGISTRY_PASSWORD', password)\n",
    "contents = contents.replace('__REGISTRY_IMAGE_LOCATION', image.image_location)\n",
    "with open('./deployment.json', 'wt', encoding='utf-8') as output_file:\n",
    "    output_file.write(contents)"
   ]
  },
  {
   "cell_type": "code",
   "execution_count": null,
   "metadata": {},
   "outputs": [],
   "source": [
    "print ( 'We will create your HUB now')\n",
    "\n",
    "with open ('setsub','w+') as command1:\n",
    "    command1.write('az account set --subscription'+subscription_id )\n",
    "    !\n",
    "    sh setsub\n",
    "\n",
    "with open ('create','w+') as command2:\n",
    "    regcommand=\"\\n echo Installing Extension ... \\naz extension add --name azure-cli-iot-ext \\n\"+ \"\\n echo CREATING RG \"+iot_rg+\"... \\naz group create --name \"+ iot_rg +\" --location \"+ iot_location+ \"\\n\" +\"\\n echo CREATING HUB \"+iot_hub_name+\"... \\naz iot hub create --name \"+ iot_hub_name + \" --resource-group \"+ iot_rg +\" --sku S1\"\n",
    "    command2.write(regcommand +\"\\n echo CREATING DEVICE ID \"+iot_device_id+\"... \\n az iot hub device-identity create --device-id \"+ iot_device_id + \" --hub-name \" +  iot_hub_name +\" --edge-enabled\")\n",
    "    !sh create\n",
    "\n",
    "with open ('deploy','w+')as command3:\n",
    "    createcommand=\"\\n echo DEPLOYING \"+iot_deployment_id+\" ... \\naz iot edge deployment create --deployment-id \\\"\" + iot_deployment_id + \"\\\" --content \\\"deployment.json\\\" --hub-name \\\"\" +  iot_hub_name +\"\\\" --target-condition \\\"deviceId='\"+iot_device_id+\"'\\\" --priority 1\"\n",
    "    command3.write(createcommand)\n",
    "    !sh deploy\n",
    "\n",
    "with open ('details','w+')as command4:\n",
    "    get_string=\"\\n echo THIS IS YOUR CONNECTION STRING ... \\naz iot hub device-identity show-connection-string --device-id  \\\"\" + iot_device_id + \"\\\" --hub-name \\\"\" +  iot_hub_name+\"\\\"\"\n",
    "    command4.write(get_string)\n",
    "    print(\"COPY THIS CONNECTION STRING FOR YOUR DEVICE\")\n",
    "    !sh details\n"
   ]
  },
  {
   "cell_type": "markdown",
   "metadata": {},
   "source": [
    "## Deploy image as an IoT module"
   ]
  },
  {
   "cell_type": "markdown",
   "metadata": {},
   "source": [
    "![title](aml_config/AMLimages/Deploy.png)"
   ]
  },
  {
   "cell_type": "markdown",
   "metadata": {},
   "source": [
    "### Set subscription to the same as your workspace"
   ]
  },
  {
   "cell_type": "code",
   "execution_count": null,
   "metadata": {},
   "outputs": [],
   "source": [
    "%%writefile ./setsub\n",
    "az account set --subscription "
   ]
  },
  {
   "cell_type": "code",
   "execution_count": null,
   "metadata": {},
   "outputs": [],
   "source": [
    "iot_sub=ws.subscription_id\n",
    "%store iot_sub >> setsub\n",
    "!sh setsub \n",
    "print ('{}'.format(iot_sub))"
   ]
  },
  {
   "cell_type": "markdown",
   "metadata": {},
   "source": [
    "### Provision a new Azure IoT Hub"
   ]
  },
  {
   "cell_type": "code",
   "execution_count": null,
   "metadata": {},
   "outputs": [],
   "source": [
    "#RG and location to create hub\n",
    "iot_rg=\"vaidk_\"+resource_group_name\n",
    "iot_location=ws.get_details()[\"location\"]\n",
    "#temp to delete\n",
    "iot_location=\"eastus2\"\n",
    "iot_hub_name=\"iothub-\"+ ws.get_details()[\"name\"]\n",
    "iot_device_id=\"vadik_\"+ ws.get_details()[\"name\"]\n",
    "iot_deployment_id=\"demovaidk\"\n",
    "print('{}'.format(iot_hub_name))"
   ]
  },
  {
   "cell_type": "code",
   "execution_count": null,
   "metadata": {},
   "outputs": [],
   "source": [
    "%%writefile ./create\n",
    "#Command to create hub and device\n"
   ]
  },
  {
   "cell_type": "code",
   "execution_count": null,
   "metadata": {},
   "outputs": [],
   "source": [
    "# Adding Intialization steps\n",
    "regcommand=\"\\n echo Installing Extension ... \\naz extension add --name azure-cli-iot-ext \\n\"+ \"\\n echo CREATING RG \"+iot_rg+\"... \\naz group create --name \"+ iot_rg +\" --location \"+ iot_location+ \"\\n\" +\"\\n echo CREATING HUB \"+iot_hub_name+\"... \\naz iot hub create --name \"+ iot_hub_name + \" --resource-group \"+ iot_rg +\" --sku S1\"\n",
    "#print('{}'.format(regcommand))\n",
    "%store regcommand >> create"
   ]
  },
  {
   "cell_type": "markdown",
   "metadata": {},
   "source": [
    "### Create Identity for your device "
   ]
  },
  {
   "cell_type": "code",
   "execution_count": null,
   "metadata": {},
   "outputs": [],
   "source": [
    "#Adding Device ID \n",
    "create_device=\"\\n echo CREATING DEVICE ID \"+iot_device_id+\"... \\n az iot hub device-identity create --device-id \"+ iot_device_id + \" --hub-name \" +  iot_hub_name +\" --edge-enabled\"\n",
    "#print('{}'.format(create_device))\n",
    "%store create_device >> create"
   ]
  },
  {
   "cell_type": "code",
   "execution_count": null,
   "metadata": {},
   "outputs": [],
   "source": [
    "#Create command and vonfigure device \n",
    "!sh create"
   ]
  },
  {
   "cell_type": "markdown",
   "metadata": {},
   "source": [
    "### Create Deployment"
   ]
  },
  {
   "cell_type": "code",
   "execution_count": null,
   "metadata": {},
   "outputs": [],
   "source": [
    "%%writefile ./deploy\n",
    "#Command to create hub and device\n"
   ]
  },
  {
   "cell_type": "code",
   "execution_count": null,
   "metadata": {},
   "outputs": [],
   "source": [
    "#Add deployment command\n",
    "deploy_device=\"\\n echo DEPLOYING \"+iot_deployment_id+\" ... \\naz iot edge deployment create --deployment-id \\\"\" + iot_deployment_id + \"\\\" --content \\\"deployment.json\\\" --hub-name \\\"\" +  iot_hub_name +\"\\\" --target-condition \\\"deviceId='\"+iot_device_id+\"'\\\" --priority 1\"\n",
    "#print('{}'.format(deploy_device))\n",
    "%store deploy_device >> deploy"
   ]
  },
  {
   "cell_type": "code",
   "execution_count": null,
   "metadata": {},
   "outputs": [],
   "source": [
    "#run deployment to stage all work for when the model is ready \n",
    "!sh deploy"
   ]
  },
  {
   "cell_type": "markdown",
   "metadata": {},
   "source": [
    "### Use this conenction string on your camera to Initialize it"
   ]
  },
  {
   "cell_type": "code",
   "execution_count": null,
   "metadata": {},
   "outputs": [],
   "source": [
    "%%writefile ./showdetails\n",
    "#Command to create hub and device"
   ]
  },
  {
   "cell_type": "code",
   "execution_count": null,
   "metadata": {},
   "outputs": [],
   "source": [
    "#Add deployment command\n",
    "get_string=\"\\n echo THIS IS YOUR CONNECTION STRING ... \\naz iot hub device-identity show-connection-string --device-id  \\\"\" + iot_device_id + \"\\\" --hub-name \\\"\" +  iot_hub_name+\"\\\"\"\n",
    "#print('{}'.format(get_string))\n",
    "%store get_string >> showdetails\n",
    "!sh showdetails"
   ]
  },
  {
   "cell_type": "code",
   "execution_count": null,
   "metadata": {
    "scrolled": true
   },
   "outputs": [],
   "source": [
    "!az account set --subscription 5f08d643-1910-4a38-a7c7-84a39d4f42e0\n",
    "!az iot hub show --name hub-peabody"
   ]
  },
  {
   "cell_type": "markdown",
   "metadata": {},
   "source": [
    "## Remove Deployment"
   ]
  }
 ],
 "metadata": {
  "kernelspec": {
   "display_name": "Python 3",
   "language": "python",
   "name": "python3"
  },
  "language_info": {
   "codemirror_mode": {
    "name": "ipython",
    "version": 3
   },
   "file_extension": ".py",
   "mimetype": "text/x-python",
   "name": "python",
   "nbconvert_exporter": "python",
   "pygments_lexer": "ipython3",
   "version": "3.7.0"
  }
 },
 "nbformat": 4,
 "nbformat_minor": 2
}
